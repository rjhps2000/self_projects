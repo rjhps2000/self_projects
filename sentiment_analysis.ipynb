{
 "cells": [
  {
   "cell_type": "code",
   "execution_count": 4,
   "metadata": {},
   "outputs": [],
   "source": [
    "import tweepy\n",
    "from textblob import TextBlob\n",
    "from wordcloud import WordCloud\n",
    "import pandas as pd\n",
    "import numpy as np\n",
    "import re\n",
    "import matplotlib.pyplot as plt\n",
    "plt.style.use('fivethirtyeight')"
   ]
  },
  {
   "cell_type": "code",
   "execution_count": 4,
   "metadata": {},
   "outputs": [],
   "source": [
    "consumerKey = '7BtPZmBeYeeY9VlQcVLXpM7A5'\n",
    "consumerSecret = 'kErDT5uJxoDXKJ8RBPe8o7FIbupYKOsEHucUIIKVtCxZtpqo9V'\n",
    "accessToken = '1282889413077413893-MyuoBjdx1oAAUUdp4USmoFyOvLuD2m'\n",
    "accessTokenSecret = 'Pw4hBMiOOKQX6UE3B62adQFP1aQtPDKHsTRZg9vLINXGA'"
   ]
  },
  {
   "cell_type": "code",
   "execution_count": null,
   "metadata": {},
   "outputs": [],
   "source": [
    "authenticate = tweepy.OAuthHandler(consumerKey,consumerSecret)\n",
    "authenticate.set_access_token(accessToken, accessTokenSecret)"
   ]
  },
  {
   "cell_type": "code",
   "execution_count": null,
   "metadata": {},
   "outputs": [],
   "source": [
    "api = tweepy.API(authenticate,wait_on_rate_limit = True)"
   ]
  },
  {
   "cell_type": "code",
   "execution_count": null,
   "metadata": {},
   "outputs": [],
   "source": [
    "posts = api.user_timeline(screen_name = \"BillGates\",count=100, lang = \"en\" , tweet_mode=\"extended\")\n",
    "print(\"5 tweets \\n\")\n",
    "i =1\n",
    "for tweet in posts[0:5]:\n",
    "  print(str(i) + ')' + tweet.full_text + '\\n')\n",
    "  i = i + 1"
   ]
  },
  {
   "cell_type": "code",
   "execution_count": null,
   "metadata": {},
   "outputs": [],
   "source": [
    "df =  pd.DataFrame( [tweet.full_text for tweet in posts] , columns=['Tweets'])\n",
    "df.head()"
   ]
  },
  {
   "cell_type": "code",
   "execution_count": null,
   "metadata": {},
   "outputs": [],
   "source": [
    "def cleanTxt(text): \n",
    "  text = re.sub(r'@[A-Za-z0-9]+','',text)\n",
    "  text = re.sub(r'#','',text)\n",
    "  text = re.sub(r':','',text)\n",
    "  text = re.sub(r'RT[\\s]+','',text)\n",
    "  text = re.sub(r'https?:\\/\\/\\S+','',text)\n",
    "  return text\n",
    "df['Tweets'] = df['Tweets'].apply(cleanTxt)\n",
    "df"
   ]
  },
  {
   "cell_type": "code",
   "execution_count": null,
   "metadata": {},
   "outputs": [],
   "source": [
    "def getSubjectivity(text):\n",
    "  return TextBlob(text).sentiment.subjectivity\n",
    "def getPolarity(text):\n",
    "  return TextBlob(text).sentiment.polarity\n",
    "df['Subjectivity'] = df['Tweets'].apply(getSubjectivity)\n",
    "df['Polarity'] = df['Tweets'].apply(getPolarity)\n",
    "\n",
    "df"
   ]
  },
  {
   "cell_type": "code",
   "execution_count": null,
   "metadata": {},
   "outputs": [],
   "source": [
    "allWords = ' '.join([twts for twts in df['Tweets']] )\n",
    "wordCloud = WordCloud(width = 500,height = 300,random_state= 21, max_font_size =119).generate(allWords)\n",
    "plt.imshow(wordCloud, interpolation = \"bilinear\")\n",
    "plt.axis('off')\n",
    "plt.show()"
   ]
  },
  {
   "cell_type": "code",
   "execution_count": null,
   "metadata": {},
   "outputs": [],
   "source": []
  }
 ],
 "metadata": {
  "kernelspec": {
   "display_name": "Python 3",
   "language": "python",
   "name": "python3"
  },
  "language_info": {
   "codemirror_mode": {
    "name": "ipython",
    "version": 3
   },
   "file_extension": ".py",
   "mimetype": "text/x-python",
   "name": "python",
   "nbconvert_exporter": "python",
   "pygments_lexer": "ipython3",
   "version": "3.7.6"
  }
 },
 "nbformat": 4,
 "nbformat_minor": 4
}
