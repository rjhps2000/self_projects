{
 "cells": [
  {
   "cell_type": "code",
   "execution_count": 1,
   "metadata": {},
   "outputs": [],
   "source": [
    "import numpy as np \n",
    "import pandas as pd \n",
    "import matplotlib.pyplot as plt\n",
    "import cv2\n",
    "import tensorflow as tf\n",
    "from PIL import Image\n",
    "import os\n",
    "from sklearn.model_selection import train_test_split\n",
    "from keras.utils import to_categorical\n",
    "from keras.models import Sequential, load_model\n",
    "from keras.layers import Conv2D, MaxPool2D, Dense, Flatten, Dropout"
   ]
  },
  {
   "cell_type": "code",
   "execution_count": 2,
   "metadata": {},
   "outputs": [],
   "source": [
    "data = []\n",
    "labels = []\n",
    "classes = 43\n",
    "cur_path = os.getcwd()\n",
    "\n",
    "#Retrieving the images and their labels \n",
    "for i in range(classes):\n",
    "    path = os.path.join('traffic sign','train',str(i))\n",
    "    images = os.listdir(path)\n",
    "\n",
    "    for a in images:\n",
    "        try:\n",
    "            image = Image.open(path + '\\\\'+ a)\n",
    "            image = image.resize((30,30))\n",
    "            image = np.array(image)\n",
    "            #sim = Image.fromarray(image)\n",
    "            data.append(image)\n",
    "            labels.append(i)\n",
    "        except:\n",
    "            print(\"Error loading image\")\n",
    "\n",
    "#Converting lists into numpy arrays\n",
    "data = np.array(data)\n",
    "labels = np.array(labels)"
   ]
  },
  {
   "cell_type": "code",
   "execution_count": 3,
   "metadata": {},
   "outputs": [
    {
     "name": "stdout",
     "output_type": "stream",
     "text": [
      "(39209, 30, 30, 3) (39209,)\n",
      "(31367, 30, 30, 3) (7842, 30, 30, 3) (31367,) (7842,)\n"
     ]
    }
   ],
   "source": [
    "print(data.shape, labels.shape)\n",
    "#Splitting training and testing dataset\n",
    "X_train, X_dev, y_train, y_dev = train_test_split(data, labels, test_size=0.2, random_state=42)\n",
    "\n",
    "print(X_train.shape, X_dev.shape, y_train.shape, y_dev.shape)\n",
    "\n",
    "#Converting the labels into one hot encoding\n",
    "y_train = to_categorical(y_train, 43)\n",
    "y_test = to_categorical(y_test, 43)"
   ]
  },
  {
   "cell_type": "code",
   "execution_count": 4,
   "metadata": {},
   "outputs": [],
   "source": [
    "#Building the model\n",
    "model = Sequential()\n",
    "model.add(Conv2D(filters=32, kernel_size=(5,5), activation='relu', input_shape=X_train.shape[1:]))\n",
    "model.add(Conv2D(filters=32, kernel_size=(5,5), activation='relu'))\n",
    "model.add(MaxPool2D(pool_size=(2, 2)))\n",
    "model.add(Dropout(rate=0.25))\n",
    "model.add(Conv2D(filters=64, kernel_size=(3, 3), activation='relu'))\n",
    "model.add(Conv2D(filters=64, kernel_size=(3, 3), activation='relu'))\n",
    "model.add(MaxPool2D(pool_size=(2, 2)))\n",
    "model.add(Dropout(rate=0.25))\n",
    "model.add(Flatten())\n",
    "model.add(Dense(256, activation='relu'))\n",
    "model.add(Dropout(rate=0.5))\n",
    "model.add(Dense(43, activation='softmax'))\n",
    "\n",
    "#Compilation of the model\n",
    "model.compile(loss='categorical_crossentropy', optimizer='adam', metrics=['accuracy'])\n"
   ]
  },
  {
   "cell_type": "code",
   "execution_count": 5,
   "metadata": {},
   "outputs": [
    {
     "name": "stdout",
     "output_type": "stream",
     "text": [
      "Epoch 1/30\n",
      "491/491 [==============================] - 80s 163ms/step - loss: 2.4699 - accuracy: 0.3890 - val_loss: 0.8253 - val_accuracy: 0.7700\n",
      "Epoch 2/30\n",
      "491/491 [==============================] - 83s 168ms/step - loss: 0.9983 - accuracy: 0.7062 - val_loss: 0.4637 - val_accuracy: 0.8661\n",
      "Epoch 3/30\n",
      "491/491 [==============================] - 82s 168ms/step - loss: 0.7295 - accuracy: 0.7770 - val_loss: 0.2867 - val_accuracy: 0.9174\n",
      "Epoch 4/30\n",
      "491/491 [==============================] - 82s 166ms/step - loss: 0.6260 - accuracy: 0.8086 - val_loss: 0.2637 - val_accuracy: 0.9241\n",
      "Epoch 5/30\n",
      "491/491 [==============================] - 77s 156ms/step - loss: 0.5551 - accuracy: 0.8284 - val_loss: 0.3469 - val_accuracy: 0.8944\n",
      "Epoch 6/30\n",
      "491/491 [==============================] - 81s 165ms/step - loss: 0.5010 - accuracy: 0.8479 - val_loss: 0.1970 - val_accuracy: 0.9439\n",
      "Epoch 7/30\n",
      "491/491 [==============================] - 83s 168ms/step - loss: 0.4341 - accuracy: 0.8673 - val_loss: 0.1437 - val_accuracy: 0.9582\n",
      "Epoch 8/30\n",
      "491/491 [==============================] - 86s 174ms/step - loss: 0.3817 - accuracy: 0.8846 - val_loss: 0.1640 - val_accuracy: 0.9490\n",
      "Epoch 9/30\n",
      "491/491 [==============================] - 97s 197ms/step - loss: 0.3373 - accuracy: 0.8970 - val_loss: 0.1122 - val_accuracy: 0.9670\n",
      "Epoch 10/30\n",
      "491/491 [==============================] - 87s 176ms/step - loss: 0.3069 - accuracy: 0.9052 - val_loss: 0.1046 - val_accuracy: 0.9691\n",
      "Epoch 11/30\n",
      "491/491 [==============================] - 82s 167ms/step - loss: 0.2626 - accuracy: 0.9198 - val_loss: 0.0874 - val_accuracy: 0.9758\n",
      "Epoch 12/30\n",
      "491/491 [==============================] - 76s 154ms/step - loss: 0.2464 - accuracy: 0.9248 - val_loss: 0.0807 - val_accuracy: 0.9758\n",
      "Epoch 13/30\n",
      "491/491 [==============================] - 82s 167ms/step - loss: 0.2468 - accuracy: 0.9273 - val_loss: 0.0896 - val_accuracy: 0.9728\n",
      "Epoch 14/30\n",
      "491/491 [==============================] - 82s 168ms/step - loss: 0.2322 - accuracy: 0.9302 - val_loss: 0.1680 - val_accuracy: 0.9489\n",
      "Epoch 15/30\n",
      "491/491 [==============================] - 82s 167ms/step - loss: 0.2283 - accuracy: 0.9313 - val_loss: 0.0841 - val_accuracy: 0.9751\n",
      "Epoch 16/30\n",
      "491/491 [==============================] - 81s 165ms/step - loss: 0.2184 - accuracy: 0.9343 - val_loss: 0.0745 - val_accuracy: 0.9779\n",
      "Epoch 17/30\n",
      "491/491 [==============================] - 83s 169ms/step - loss: 0.2110 - accuracy: 0.9374 - val_loss: 0.0545 - val_accuracy: 0.9838\n",
      "Epoch 18/30\n",
      "491/491 [==============================] - 82s 167ms/step - loss: 0.2026 - accuracy: 0.9404 - val_loss: 0.0541 - val_accuracy: 0.9847\n",
      "Epoch 19/30\n",
      "491/491 [==============================] - 95s 193ms/step - loss: 0.2063 - accuracy: 0.9411 - val_loss: 0.0985 - val_accuracy: 0.9709\n",
      "Epoch 20/30\n",
      "491/491 [==============================] - 84s 171ms/step - loss: 0.1904 - accuracy: 0.9424 - val_loss: 0.0688 - val_accuracy: 0.9800\n",
      "Epoch 21/30\n",
      "491/491 [==============================] - 85s 173ms/step - loss: 0.2008 - accuracy: 0.9411 - val_loss: 0.0584 - val_accuracy: 0.9825\n",
      "Epoch 22/30\n",
      "491/491 [==============================] - 92s 187ms/step - loss: 0.2090 - accuracy: 0.9402 - val_loss: 0.0490 - val_accuracy: 0.9848\n",
      "Epoch 23/30\n",
      "491/491 [==============================] - 91s 185ms/step - loss: 0.1731 - accuracy: 0.9493 - val_loss: 0.0556 - val_accuracy: 0.9834\n",
      "Epoch 24/30\n",
      "491/491 [==============================] - 86s 175ms/step - loss: 0.1770 - accuracy: 0.9481 - val_loss: 0.0509 - val_accuracy: 0.9857\n",
      "Epoch 25/30\n",
      "491/491 [==============================] - 82s 167ms/step - loss: 0.1866 - accuracy: 0.9467 - val_loss: 0.0615 - val_accuracy: 0.9827\n",
      "Epoch 26/30\n",
      "491/491 [==============================] - 80s 163ms/step - loss: 0.1794 - accuracy: 0.9478 - val_loss: 0.0567 - val_accuracy: 0.9843\n",
      "Epoch 27/30\n",
      "491/491 [==============================] - 83s 170ms/step - loss: 0.1848 - accuracy: 0.9473 - val_loss: 0.0420 - val_accuracy: 0.9879\n",
      "Epoch 28/30\n",
      "491/491 [==============================] - 80s 162ms/step - loss: 0.1834 - accuracy: 0.9472 - val_loss: 0.0523 - val_accuracy: 0.9846\n",
      "Epoch 29/30\n",
      "491/491 [==============================] - 79s 160ms/step - loss: 0.1791 - accuracy: 0.9486 - val_loss: 0.0384 - val_accuracy: 0.9892\n",
      "Epoch 30/30\n",
      "491/491 [==============================] - 77s 157ms/step - loss: 0.2044 - accuracy: 0.9430 - val_loss: 0.0465 - val_accuracy: 0.9871\n"
     ]
    },
    {
     "data": {
      "image/png": "[encoded data removed]",
      "text/plain": [
       "<Figure size 432x288 with 1 Axes>"
      ]
     },
     "metadata": {
      "needs_background": "light"
     },
     "output_type": "display_data"
    },
    {
     "data": {
      "image/png": "[encoded data removed]",
      "text/plain": [
       "<Figure size 432x288 with 1 Axes>"
      ]
     },
     "metadata": {
      "needs_background": "light"
     },
     "output_type": "display_data"
    }
   ],
   "source": [
    "epochs = 30\n",
    "history = model.fit(X_train, y_train, batch_size=64, epochs=epochs, validation_data=(X_dev, y_dev))\n",
    "\n",
    "#plotting graphs for accuracy \n",
    "plt.figure(0)\n",
    "plt.plot(history.history['accuracy'], label='training accuracy')\n",
    "plt.plot(history.history['val_accuracy'], label='val accuracy')\n",
    "plt.title('Accuracy')\n",
    "plt.xlabel('epochs')\n",
    "plt.ylabel('accuracy')\n",
    "plt.legend()\n",
    "plt.show()\n",
    "\n",
    "plt.figure(1)\n",
    "plt.plot(history.history['loss'], label='training loss')\n",
    "plt.plot(history.history['val_loss'], label='val loss')\n",
    "plt.title('Loss')\n",
    "plt.xlabel('epochs')\n",
    "plt.ylabel('loss')\n",
    "plt.legend()\n",
    "plt.show()"
   ]
  },
  {
   "cell_type": "code",
   "execution_count": 6,
   "metadata": {},
   "outputs": [
    {
     "name": "stdout",
     "output_type": "stream",
     "text": [
      "WARNING:tensorflow:From <ipython-input-6-927bb428a65f>:17: Sequential.predict_classes (from tensorflow.python.keras.engine.sequential) is deprecated and will be removed after 2021-01-01.\n",
      "Instructions for updating:\n",
      "Please use instead:* `np.argmax(model.predict(x), axis=-1)`,   if your model does multi-class classification   (e.g. if it uses a `softmax` last-layer activation).* `(model.predict(x) > 0.5).astype(\"int32\")`,   if your model does binary classification   (e.g. if it uses a `sigmoid` last-layer activation).\n",
      "0.9507521773555028\n"
     ]
    }
   ],
   "source": [
    "from sklearn.metrics import accuracy_score\n",
    "\n",
    "#y_test = pd.read_csv(os.path.join('traffic sign','Test.csv',delimiter))\n",
    "y_test = pd.read_csv(os.path.join('traffic sign','Test.csv'),delimiter=',')\n",
    "labels = y_test[\"ClassId\"].values\n",
    "imgs = y_test[\"Path\"].values\n",
    "\n",
    "data=[]\n",
    "\n",
    "for img in imgs:\n",
    "    image = Image.open('traffic sign'+'/'+img)\n",
    "    image = image.resize((30,30))\n",
    "    data.append(np.array(image))\n",
    "\n",
    "X_test=np.array(data)\n",
    "\n",
    "pred = model.predict_classes(X_test)\n",
    "\n",
    "#Accuracy with the test data\n",
    "from sklearn.metrics import accuracy_score\n",
    "print(accuracy_score(labels, pred))"
   ]
  },
  {
   "cell_type": "code",
   "execution_count": null,
   "metadata": {},
   "outputs": [],
   "source": []
  }
 ],
 "metadata": {
  "kernelspec": {
   "display_name": "Python 3",
   "language": "python",
   "name": "python3"
  },
  "language_info": {
   "codemirror_mode": {
    "name": "ipython",
    "version": 3
   },
   "file_extension": ".py",
   "mimetype": "text/x-python",
   "name": "python",
   "nbconvert_exporter": "python",
   "pygments_lexer": "ipython3",
   "version": "3.7.6"
  }
 },
 "nbformat": 4,
 "nbformat_minor": 4
}
